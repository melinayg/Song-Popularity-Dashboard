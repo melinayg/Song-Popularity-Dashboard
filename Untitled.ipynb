{
 "cells": [
  {
   "cell_type": "code",
   "execution_count": 6,
   "id": "d667f3b7",
   "metadata": {},
   "outputs": [],
   "source": [
    "# from dash import Dash, dcc, html, Input, Output\n",
    "import plotly.express as px\n",
    "import pandas as pd\n",
    "from datetime import datetime"
   ]
  },
  {
   "cell_type": "code",
   "execution_count": 7,
   "id": "3ea71a0b",
   "metadata": {},
   "outputs": [],
   "source": [
    "df = pd.read_csv('test.csv')\n",
    "platform = 'spotify'"
   ]
  },
  {
   "cell_type": "code",
   "execution_count": 13,
   "id": "0856990e",
   "metadata": {},
   "outputs": [],
   "source": [
    "for idx in df.index:\n",
    "    if df.iloc[idx][f'in_{platform}_charts'] == 0:\n",
    "        df.drop(idx)\n",
    "#         print(df.iloc[idx])"
   ]
  },
  {
   "cell_type": "code",
   "execution_count": 15,
   "id": "af8479bd",
   "metadata": {},
   "outputs": [
    {
     "data": {
      "application/vnd.plotly.v1+json": {
       "config": {
        "plotlyServerURL": "https://plot.ly"
       },
       "data": [
        {
         "customdata": [
          [
           "Seven (feat. Latto) (Explicit Ver.)"
          ],
          [
           "LALA"
          ],
          [
           "vampire"
          ],
          [
           "Cruel Summer"
          ],
          [
           "WHERE SHE GOES"
          ],
          [
           "Sprinter"
          ],
          [
           "Ella Baila Sola"
          ],
          [
           "Columbia"
          ],
          [
           "fukumean"
          ],
          [
           "La Bebe - Remix"
          ],
          [
           "un x100to"
          ],
          [
           "Super Shy"
          ],
          [
           "Flowers"
          ],
          [
           "Daylight"
          ],
          [
           "As It Was"
          ],
          [
           "Kill Bill"
          ],
          [
           "Cupid - Twin Ver."
          ],
          [
           "What Was I Made For? [From The Motion Picture \"Barbie\"]"
          ],
          [
           "Classy 101"
          ],
          [
           "Like Crazy"
          ],
          [
           "LADY GAGA"
          ],
          [
           "I Can See You (Taylor's Version) (From The "
          ],
          [
           "I Wanna Be Yours"
          ],
          [
           "Peso Pluma: Bzrp Music Sessions, Vol. 55"
          ],
          [
           "Popular (with Playboi Carti & Madonna) - The Idol Vol. 1 (Music from the HBO Original Series)"
          ],
          [
           "SABOR FRESA"
          ],
          [
           "Calm Down (with Selena Gomez)"
          ],
          [
           "MOJABI GHOST"
          ],
          [
           "Last Night"
          ],
          [
           "Dance The Night (From Barbie The Album)"
          ],
          [
           "Rush"
          ],
          [
           "TULUM"
          ],
          [
           "Creepin'"
          ],
          [
           "Anti-Hero"
          ],
          [
           "TQG"
          ],
          [
           "Los del Espacio"
          ],
          [
           "Fragil (feat. Grupo Front)"
          ],
          [
           "Blank Space"
          ],
          [
           "Style"
          ],
          [
           "TQM"
          ],
          [
           "El Azul"
          ],
          [
           "Sunflower - Spider-Man: Into the Spider-Verse"
          ],
          [
           "I'm Good (Blue)"
          ],
          [
           "See You Again"
          ],
          [
           "Barbie World (with Aqua) [From Barbie The Album]"
          ],
          [
           "Angels Like You"
          ],
          [
           "I Ain't Worried"
          ],
          [
           "Die For You"
          ],
          [
           "Starboy"
          ],
          [
           "Die For You - Remix"
          ],
          [
           "El Cielo"
          ],
          [
           "Baby Don't Hurt Me"
          ],
          [
           "AMARGURA"
          ],
          [
           "(It Goes Like) Nanana - Edit"
          ],
          [
           "Another Love"
          ],
          [
           "Blinding Lights"
          ],
          [
           "Moonlight"
          ],
          [
           "La Bachata"
          ],
          [
           "S91"
          ],
          [
           "cardigan"
          ],
          [
           "Ta OK"
          ],
          [
           "Boy's a liar Pt. 2"
          ],
          [
           "Left and Right (Feat. Jung Kook of BTS)"
          ],
          [
           "BESO"
          ],
          [
           "Hey Mor"
          ],
          [
           "Yellow"
          ],
          [
           "Karma"
          ],
          [
           "People"
          ],
          [
           "Overdrive"
          ],
          [
           "Enchanted (Taylor's Version)"
          ],
          [
           "BABY HELLO"
          ],
          [
           "Heat Waves"
          ],
          [
           "golden hour"
          ],
          [
           "Sweater Weather"
          ],
          [
           "Quevedo: Bzrp Music Sessions, Vol. 52"
          ],
          [
           "Viva La Vida"
          ],
          [
           "Here With Me"
          ],
          [
           "Unholy (feat. Kim Petras)"
          ],
          [
           "Yandel 150"
          ],
          [
           "CORAZON VACIO"
          ],
          [
           "Riptide"
          ],
          [
           "Until I Found You (with Em Beihold) - Em Beihold Version"
          ],
          [
           "Novidade na Area"
          ],
          [
           "Back To December (Taylor's Version)"
          ],
          [
           "STAY (with Justin Bieber)"
          ],
          [
           "El Merengue"
          ],
          [
           "Someone You Loved"
          ],
          [
           "Me Porto Bonito"
          ],
          [
           "Makeba"
          ],
          [
           "MONTAGEM - FR PUNK"
          ],
          [
           "Fast Car"
          ],
          [
           "What It Is (Solo Version)"
          ],
          [
           "Coco Chanel"
          ],
          [
           "Don't Blame Me"
          ],
          [
           "Still With You"
          ],
          [
           "All My Life (feat. J. Cole)"
          ],
          [
           "Say Yes To Heaven"
          ],
          [
           "Snooze"
          ],
          [
           "Summertime Sadness"
          ],
          [
           "Take Two"
          ],
          [
           "Lover"
          ],
          [
           "Too Many Nights (feat. Don Toliver & with Future)"
          ],
          [
           "Chemical"
          ],
          [
           "Mockingbird"
          ],
          [
           "New Jeans"
          ],
          [
           "Primera Cita"
          ],
          [
           "Cold Heart - PNAU Remix"
          ],
          [
           "Dandelions"
          ],
          [
           "Bones"
          ],
          [
           "Set Fire to the Rain"
          ],
          [
           "Money Trees"
          ],
          [
           "Tak Segampang Itu"
          ],
          [
           "LAGUNAS"
          ],
          [
           "Mine (Taylor's Version)"
          ],
          [
           "Everybody Wants To Rule The World"
          ],
          [
           "No Role Modelz"
          ],
          [
           "Tattoo"
          ],
          [
           "Rara Vez"
          ],
          [
           "VAGABUNDO"
          ],
          [
           "august"
          ],
          [
           "LUNA"
          ],
          [
           "Miracle (with Ellie Goulding)"
          ],
          [
           "Nonsense"
          ],
          [
           "Que Vuelvas"
          ],
          [
           "Por las Noches"
          ],
          [
           "Feliz Cumpleanos Ferxxo"
          ],
          [
           "Can't Hold Us (feat. Ray Dalton)"
          ],
          [
           "Watermelon Sugar"
          ],
          [
           "lovely - Bonus Track"
          ],
          [
           "Rauw Alejandro: Bzrp Music Sessions, Vol. 56"
          ],
          [
           "Queencard"
          ],
          [
           "OMG"
          ],
          [
           "Radio"
          ],
          [
           "Shakira: Bzrp Music Sessions, Vol. 53"
          ],
          [
           "505"
          ],
          [
           "Calling (Spider-Man: Across the Spider-Verse) (Metro Boomin & Swae Lee, NAV, feat. A Boogie Wit da Hoodie)"
          ],
          [
           "Trance (with Travis Scott & Young Thug)"
          ],
          [
           "Tere Vaaste (From \"Zara Hatke Zara Bachke\")"
          ],
          [
           "Perfect"
          ],
          [
           "Romantic Homicide"
          ],
          [
           "Believer"
          ],
          [
           "Novo Balanco"
          ],
          [
           "Gol Bolinha, Gol Quadrado 2"
          ],
          [
           "Without Me"
          ],
          [
           "QUEMA"
          ],
          [
           "Stargirl Interlude"
          ],
          [
           "Ojitos Lindos"
          ],
          [
           "Somewhere Only We Know"
          ],
          [
           "Those Eyes"
          ],
          [
           "El Gordo Trae El Mando"
          ],
          [
           "Mi Bello Angel"
          ],
          [
           "Bye"
          ],
          [
           "Danza Kuduro"
          ],
          [
           "Nosso Quadro"
          ],
          [
           "Locked Out Of Heaven"
          ],
          [
           "Un Finde | CROSSOVER #2"
          ],
          [
           "Jimmy Cooks (feat. 21 Savage)"
          ],
          [
           "Counting Stars"
          ],
          [
           "Ghost"
          ],
          [
           "Under The Influence"
          ],
          [
           "PRC"
          ],
          [
           "Gasolina"
          ],
          [
           "One Dance"
          ],
          [
           "Enchanted"
          ],
          [
           "Save Your Tears"
          ],
          [
           "Sure Thing"
          ],
          [
           "Every Breath You Take - Remastered 2003"
          ],
          [
           "The Night We Met"
          ],
          [
           "We Found Love"
          ],
          [
           "When I Was Your Man"
          ],
          [
           "Let Me Down Slowly"
          ],
          [
           "Am I Dreaming (Metro Boomin & A$AP Rocky, Roisee)"
          ],
          [
           "Do I Wanna Know?"
          ],
          [
           "Demons"
          ],
          [
           "Reminder"
          ],
          [
           "Shake It Off"
          ],
          [
           "Why'd You Only Call Me When You're High?"
          ],
          [
           "SNAP"
          ],
          [
           "Shape of You"
          ],
          [
           "Night Changes"
          ],
          [
           "Fin de Semana"
          ],
          [
           "Creep"
          ],
          [
           "Car's Outside"
          ],
          [
           "Apocalypse"
          ],
          [
           "Cheques"
          ],
          [
           "Pink + White"
          ],
          [
           "Circles"
          ],
          [
           "Just The Way You Are"
          ],
          [
           "Take Me To Church"
          ],
          [
           "Bebe Dame"
          ],
          [
           "You Belong With Me (Taylor's Version)"
          ],
          [
           "Titi Me Pregunto"
          ],
          [
           "Better Than Revenge (Taylor's Version)"
          ],
          [
           "Shut up My Moms Calling"
          ],
          [
           "Have You Ever Seen The Rain?"
          ],
          [
           "Es un Secreto"
          ],
          [
           "POLARIS - Remix"
          ],
          [
           "Ditto"
          ],
          [
           "Take On Me"
          ],
          [
           "Annihilate (Spider-Man: Across the Spider-Verse) (Metro Boomin & Swae Lee, Lil Wayne, Offset)"
          ],
          [
           "Angel Pt 1 (feat. Jimin of BTS, JVKE & Muni Long)"
          ],
          [
           "Acrostico"
          ],
          [
           "AMG"
          ],
          [
           "Phir Aur Kya Chahiye (From \"Zara Hatke Zara Bachke\")"
          ],
          [
           "S-Class"
          ],
          [
           "Chanel"
          ],
          [
           "Self Love (Spider-Man: Across the Spider-Verse) (Metro Boomin & Coi Leray)"
          ],
          [
           "Area Codes"
          ],
          [
           "Abcdario"
          ],
          [
           "Obsessed"
          ],
          [
           "Pisman Degilim"
          ],
          [
           "FLOWER"
          ],
          [
           "Eyes Closed"
          ],
          [
           "Escapism."
          ],
          [
           "La Jumpa"
          ],
          [
           "Superhero (Heroes & Villains) [with Future & Chris Brown]"
          ],
          [
           "Las Morras"
          ],
          [
           "CHORRITO PA LAS ANIMAS"
          ],
          [
           "Ch y la Pizza"
          ],
          [
           "Snow On The Beach (feat. More Lana Del Rey)"
          ],
          [
           "Players"
          ],
          [
           "Bite Me"
          ],
          [
           "Stand By Me (feat. Morgan Wallen)"
          ],
          [
           "Normal"
          ],
          [
           "Hummingbird (Metro Boomin & James Blake)"
          ],
          [
           "Seu Brilho Sumiu - Ao Vivo"
          ],
          [
           "Bad Habit"
          ],
          [
           "CUFF IT"
          ],
          [
           "Lilith (feat. SUGA of BTS) (Diablo IV Anthem)"
          ],
          [
           "69"
          ],
          [
           "Nina Bonita"
          ],
          [
           "Search & Rescue"
          ],
          [
           "Lavender Haze"
          ],
          [
           "Efecto"
          ],
          [
           "Erro Gostoso - Ao Vivo"
          ],
          [
           "Cupido"
          ],
          [
           "Just Wanna Rock"
          ],
          [
           "Unstoppable"
          ],
          [
           "Until I Found You"
          ],
          [
           "Rich Flex"
          ],
          [
           "Easy On Me"
          ],
          [
           "Cartao Black"
          ],
          [
           "Oi Balde - Ao Vivo"
          ],
          [
           "The Real Slim Shady"
          ],
          [
           "MERCHO"
          ],
          [
           "The Color Violet"
          ],
          [
           "Glimpse of Us"
          ],
          [
           "Mejor Que Yo"
          ],
          [
           "UNFORGIVEN (feat. Nile Rodgers)"
          ],
          [
           "Haegeum"
          ],
          [
           "Conexoes de Mafia (feat. Rich The Kid)"
          ],
          [
           "MIENTRAS ME CURO DEL CORA"
          ],
          [
           "Never Felt So Alone"
          ],
          [
           "X SI VOLVEMOS"
          ],
          [
           "ceilings"
          ],
          [
           "Cupid"
          ],
          [
           "I AM"
          ],
          [
           "Cupid - Twin Ver. (FIFTY FIFTY) - Sped Up Version"
          ],
          [
           "Shorty Party"
          ],
          [
           "Super"
          ],
          [
           "Slut Me Out"
          ],
          [
           "All Of The Girls You Loved Before"
          ],
          [
           "PROVENZA"
          ],
          [
           "Princess Diana (with Nicki Minaj)"
          ],
          [
           "Di Que Si"
          ],
          [
           "Shivers"
          ],
          [
           "Igualito a Mi Apa"
          ],
          [
           "Shoong! (feat. LISA of BLACKPINK)"
          ],
          [
           "Komang"
          ],
          [
           "DESPECHA"
          ],
          [
           "Made You Look"
          ],
          [
           "Watch This - ARIZONATEARS Pluggnb Remix"
          ],
          [
           "No Se Va"
          ],
          [
           "Punto G"
          ],
          [
           "Lovers Rock"
          ],
          [
           "METAMORPHOSIS"
          ],
          [
           "Mami Chula"
          ],
          [
           "En Paris"
          ],
          [
           "Set Me Free Pt.2"
          ],
          [
           "I Was Never There"
          ],
          [
           "Shut Down"
          ],
          [
           "Gato de Noche"
          ],
          [
           "Call Out My Name"
          ],
          [
           "Like Crazy (English Version)"
          ],
          [
           "Rosa Pastel"
          ],
          [
           "Sunroof"
          ],
          [
           "Lose Yourself - Soundtrack Version"
          ],
          [
           "Superman"
          ],
          [
           "Mas Rica Que Ayer"
          ],
          [
           "People Pt.2 (feat. IU)"
          ],
          [
           "REMIX EXCLUSIVO"
          ],
          [
           "Arcangel: Bzrp Music Sessions, Vol"
          ],
          [
           "10:35"
          ],
          [
           "La Bebe"
          ],
          [
           "Late Night Talking"
          ],
          [
           "Leao"
          ],
          [
           "Save Your Tears (with Ariana Grande) (Remix)"
          ],
          [
           "Something in the Orange"
          ],
          [
           "Dijeron Que No La Iba Lograr"
          ],
          [
           "Midnight Rain"
          ],
          [
           "If We Ever Broke Up"
          ],
          [
           "You Proof"
          ],
          [
           "LA INOCENTE"
          ],
          [
           "Malas Decisiones"
          ],
          [
           "Murder In My Mind"
          ],
          [
           "Gangsta's Paradise"
          ],
          [
           "CAIRO"
          ],
          [
           "I Love You So"
          ],
          [
           "Dark Red"
          ],
          [
           "Say You Won't Let Go"
          ],
          [
           "The Hills"
          ],
          [
           "Marisola - Remix"
          ],
          [
           "LOKERA"
          ],
          [
           "Numb"
          ],
          [
           "on the street (with J. Cole)"
          ],
          [
           "One Thing At A Time"
          ],
          [
           "Miss You"
          ],
          [
           "Ain't That Some"
          ],
          [
           "Thinkin' Bout Me"
          ],
          [
           "Heaven"
          ],
          [
           "LET GO"
          ],
          [
           "Sial"
          ],
          [
           "SPIT IN MY FACE!"
          ],
          [
           "PLAYA DEL INGLES"
          ],
          [
           "Kahani Suno 2.0"
          ],
          [
           "Nobody Gets Me"
          ],
          [
           "PERO TU"
          ],
          [
           "Hype Boy"
          ],
          [
           "Monotonia"
          ],
          [
           "WANDA"
          ],
          [
           "Thought You Should Know"
          ],
          [
           "In The End"
          ],
          [
           "Zona De Perigo"
          ],
          [
           "I Like You (A Happier Song) (with Doja Cat)"
          ],
          [
           "Neverita"
          ],
          [
           "Vista Al Mar"
          ],
          [
           "Sem Alianca no Dedo"
          ],
          [
           "Enemy (with JID) - from the series Arcane League of Legends"
          ],
          [
           "Revenge"
          ],
          [
           "Bombonzinho - Ao Vivo"
          ],
          [
           "LA CANCION"
          ],
          [
           "Que Agonia"
          ],
          [
           "After Hours"
          ],
          [
           "About Damn Time"
          ],
          [
           "Besos Moja2"
          ],
          [
           "Maan Meri Jaan"
          ],
          [
           "Moscow Mule"
          ],
          [
           "My Universe"
          ],
          [
           "TRUSTFALL"
          ],
          [
           "ANTIFRAGILE"
          ],
          [
           "VIBE (feat. Jimin of BTS)"
          ],
          [
           "Sex, Drugs, Etc."
          ],
          [
           "Jhoome Jo Pathaan"
          ],
          [
           "Space Song"
          ],
          [
           "Dreamers [Music from the FIFA World Cup Qatar 2022 Official Soundtrack]"
          ],
          [
           "Te Felicito"
          ],
          [
           "Munecas"
          ],
          [
           "TV"
          ],
          [
           "I'm Not The Only One"
          ],
          [
           "Heather"
          ],
          [
           "Besharam Rang (From \"Pathaan\")"
          ],
          [
           "One Kiss (with Dua Lipa)"
          ],
          [
           "Pink Venom"
          ],
          [
           "WAIT FOR U (feat. Drake & Tems)"
          ],
          [
           "After Dark"
          ],
          [
           "Eu Gosto Assim - Ao Vivo"
          ],
          [
           "MIDDLE OF THE NIGHT"
          ],
          [
           "Atlantis"
          ],
          [
           "PUNTO 40"
          ],
          [
           "How Do I Say Goodbye"
          ],
          [
           "Doja"
          ],
          [
           "Yonaguni"
          ],
          [
           "Where Are You Now"
          ],
          [
           "Bad Habits"
          ],
          [
           "KICK BACK"
          ],
          [
           "Good Days"
          ],
          [
           "Levitating (feat. DaBaby)"
          ],
          [
           "Shut up My Moms Calling - (Sped Up)"
          ],
          [
           "Ferrari"
          ],
          [
           "You're On Your Own, Kid"
          ],
          [
           "Kesariya (From \"Brahmastra\")"
          ],
          [
           "Payphone"
          ],
          [
           "Open Arms (feat. Travis Scott)"
          ],
          [
           "Antidepresan"
          ],
          [
           "Wild Flower (with youjeen)"
          ],
          [
           "Tarot"
          ],
          [
           "Desesperados"
          ],
          [
           "Party"
          ],
          [
           "GATUBELA"
          ]
         ],
         "hovertemplate": "in_spotify_playlists=%{x}<br>in_spotify_charts=%{y}<br>track_name=%{customdata[0]}<extra></extra>",
         "legendgroup": "",
         "marker": {
          "color": "#636efa",
          "symbol": "circle"
         },
         "mode": "markers",
         "name": "",
         "orientation": "v",
         "showlegend": false,
         "type": "scatter",
         "x": [
          553,
          1474,
          1397,
          7858,
          3133,
          2186,
          3090,
          714,
          1096,
          2953,
          2876,
          422,
          12211,
          3528,
          23575,
          8109,
          2942,
          873,
          2610,
          596,
          332,
          516,
          12859,
          1313,
          1945,
          250,
          7112,
          859,
          2420,
          2988,
          864,
          266,
          6036,
          9082,
          4284,
          1150,
          672,
          11434,
          7830,
          584,
          692,
          24094,
          12482,
          13387,
          1117,
          3372,
          8431,
          2483,
          29536,
          3408,
          1298,
          4277,
          1133,
          2259,
          18371,
          43899,
          2649,
          6804,
          525,
          7923,
          731,
          5184,
          3107,
          4053,
          4637,
          31358,
          3818,
          3506,
          410,
          148,
          1004,
          22543,
          4511,
          16413,
          8506,
          33898,
          3246,
          8576,
          3618,
          370,
          31123,
          2790,
          267,
          139,
          17050,
          2114,
          17836,
          8870,
          6060,
          641,
          1446,
          804,
          1962,
          4875,
          31,
          2175,
          2000,
          2839,
          20333,
          674,
          8448,
          2110,
          2528,
          12985,
          77,
          266,
          21097,
          3423,
          4198,
          14739,
          26792,
          213,
          58,
          99,
          41751,
          21164,
          2988,
          893,
          1094,
          7324,
          201,
          5120,
          2346,
          763,
          457,
          3430,
          6074,
          21915,
          15032,
          871,
          451,
          1783,
          9389,
          5724,
          13985,
          1051,
          1682,
          182,
          16596,
          2335,
          18986,
          283,
          293,
          21081,
          437,
          1275,
          6135,
          20015,
          1507,
          539,
          86,
          324,
          17138,
          894,
          1622,
          561,
          5871,
          29215,
          5866,
          3859,
          961,
          6457,
          43257,
          4564,
          12688,
          13801,
          22439,
          18515,
          36843,
          2420,
          5897,
          727,
          33783,
          26694,
          6518,
          21335,
          23389,
          3202,
          32181,
          7124,
          592,
          36724,
          794,
          13091,
          67,
          21574,
          19664,
          21106,
          23804,
          849,
          2619,
          9037,
          86,
          1788,
          15890,
          492,
          773,
          1154,
          44927,
          551,
          577,
          955,
          995,
          178,
          290,
          681,
          332,
          1197,
          262,
          161,
          185,
          839,
          2915,
          5129,
          3794,
          2959,
          291,
          2321,
          536,
          359,
          4096,
          349,
          381,
          2461,
          277,
          967,
          8186,
          7842,
          215,
          1134,
          1305,
          2066,
          3763,
          4004,
          984,
          1240,
          3995,
          7681,
          4427,
          4657,
          10195,
          269,
          845,
          20763,
          1267,
          2585,
          6330,
          675,
          327,
          244,
          385,
          1020,
          1730,
          2127,
          3242,
          526,
          366,
          472,
          432,
          271,
          816,
          1282,
          6587,
          1444,
          356,
          10147,
          265,
          351,
          158,
          7613,
          3956,
          1638,
          924,
          1985,
          6339,
          1561,
          875,
          406,
          340,
          4188,
          1524,
          2651,
          11087,
          373,
          200,
          3741,
          32502,
          7615,
          1208,
          209,
          1235,
          654,
          4942,
          489,
          7461,
          993,
          9161,
          3282,
          320,
          2612,
          2040,
          2128,
          2598,
          542,
          2459,
          10624,
          2418,
          7536,
          10431,
          15722,
          25744,
          1845,
          3301,
          20111,
          615,
          811,
          5730,
          356,
          604,
          1553,
          2301,
          134,
          629,
          1701,
          162,
          2536,
          387,
          892,
          3645,
          888,
          968,
          25065,
          531,
          5281,
          2590,
          1769,
          454,
          6180,
          3600,
          1254,
          6398,
          660,
          8084,
          2332,
          2460,
          288,
          4572,
          6127,
          2098,
          761,
          415,
          3006,
          138,
          17852,
          889,
          4796,
          658,
          3009,
          17492,
          6170,
          130,
          27705,
          1963,
          5491,
          1776,
          1473,
          4057,
          3045,
          3006,
          2163,
          4169,
          9644,
          10565,
          12755,
          574,
          10426,
          15894,
          713,
          7758,
          2537,
          292,
          14143,
          1420,
          313,
          353,
          2482,
          6821,
          3185,
          3328
         ],
         "xaxis": "x",
         "y": [
          147,
          48,
          113,
          100,
          50,
          91,
          50,
          43,
          83,
          44,
          40,
          55,
          115,
          98,
          130,
          77,
          77,
          104,
          40,
          68,
          26,
          38,
          110,
          40,
          87,
          26,
          77,
          40,
          19,
          101,
          78,
          34,
          88,
          56,
          49,
          31,
          34,
          53,
          42,
          28,
          25,
          78,
          80,
          64,
          80,
          19,
          76,
          59,
          79,
          47,
          38,
          66,
          39,
          59,
          83,
          69,
          42,
          45,
          41,
          29,
          15,
          41,
          39,
          50,
          38,
          43,
          23,
          56,
          36,
          24,
          35,
          63,
          36,
          61,
          45,
          62,
          23,
          42,
          38,
          20,
          55,
          30,
          9,
          17,
          36,
          44,
          53,
          43,
          53,
          50,
          12,
          25,
          38,
          23,
          39,
          23,
          46,
          25,
          52,
          47,
          23,
          58,
          39,
          61,
          35,
          27,
          52,
          21,
          44,
          43,
          32,
          6,
          18,
          15,
          25,
          36,
          59,
          38,
          34,
          22,
          11,
          48,
          27,
          26,
          24,
          38,
          52,
          34,
          30,
          32,
          33,
          27,
          46,
          44,
          25,
          16,
          46,
          8,
          13,
          23,
          23,
          7,
          8,
          43,
          31,
          32,
          38,
          16,
          14,
          21,
          8,
          14,
          37,
          9,
          9,
          14,
          27,
          43,
          24,
          26,
          26,
          18,
          24,
          16,
          13,
          19,
          19,
          35,
          21,
          11,
          19,
          16,
          26,
          13,
          17,
          13,
          29,
          18,
          10,
          18,
          14,
          7,
          10,
          17,
          8,
          30,
          16,
          13,
          31,
          22,
          12,
          42,
          11,
          14,
          14,
          36,
          33,
          22,
          17,
          4,
          14,
          29,
          19,
          6,
          19,
          10,
          5,
          13,
          5,
          6,
          3,
          18,
          30,
          25,
          34,
          16,
          8,
          36,
          10,
          2,
          6,
          69,
          5,
          36,
          1,
          5,
          12,
          10,
          6,
          22,
          34,
          6,
          8,
          33,
          5,
          24,
          13,
          13,
          4,
          18,
          20,
          4,
          2,
          27,
          20,
          32,
          6,
          1,
          13,
          12,
          4,
          35,
          3,
          33,
          9,
          10,
          15,
          2,
          12,
          12,
          4,
          6,
          34,
          4,
          10,
          30,
          6,
          9,
          4,
          33,
          6,
          10,
          18,
          35,
          13,
          24,
          4,
          5,
          13,
          15,
          17,
          30,
          6,
          19,
          4,
          17,
          21,
          14,
          34,
          4,
          9,
          3,
          26,
          17,
          8,
          4,
          5,
          12,
          6,
          4,
          4,
          9,
          37,
          2,
          20,
          17,
          26,
          7,
          7,
          16,
          4,
          16,
          30,
          5,
          2,
          4,
          10,
          4,
          6,
          2,
          20,
          4,
          14,
          15,
          6,
          6,
          11,
          17,
          15,
          22,
          4,
          6,
          4,
          14,
          30,
          34,
          4,
          7,
          11,
          6,
          31,
          15,
          6,
          2,
          13,
          6,
          33,
          13,
          16,
          12,
          2,
          16,
          4,
          4,
          20,
          9,
          6,
          2,
          3,
          7,
          4,
          10,
          16,
          14,
          14,
          4,
          8,
          6,
          12,
          15,
          44,
          28,
          44,
          8,
          4,
          2,
          8,
          7,
          28,
          2,
          6,
          4,
          4,
          2,
          2,
          20,
          34,
          4,
          13
         ],
         "yaxis": "y"
        }
       ],
       "layout": {
        "hovermode": "closest",
        "legend": {
         "tracegroupgap": 0
        },
        "margin": {
         "t": 60
        },
        "template": {
         "data": {
          "bar": [
           {
            "error_x": {
             "color": "#2a3f5f"
            },
            "error_y": {
             "color": "#2a3f5f"
            },
            "marker": {
             "line": {
              "color": "#E5ECF6",
              "width": 0.5
             },
             "pattern": {
              "fillmode": "overlay",
              "size": 10,
              "solidity": 0.2
             }
            },
            "type": "bar"
           }
          ],
          "barpolar": [
           {
            "marker": {
             "line": {
              "color": "#E5ECF6",
              "width": 0.5
             },
             "pattern": {
              "fillmode": "overlay",
              "size": 10,
              "solidity": 0.2
             }
            },
            "type": "barpolar"
           }
          ],
          "carpet": [
           {
            "aaxis": {
             "endlinecolor": "#2a3f5f",
             "gridcolor": "white",
             "linecolor": "white",
             "minorgridcolor": "white",
             "startlinecolor": "#2a3f5f"
            },
            "baxis": {
             "endlinecolor": "#2a3f5f",
             "gridcolor": "white",
             "linecolor": "white",
             "minorgridcolor": "white",
             "startlinecolor": "#2a3f5f"
            },
            "type": "carpet"
           }
          ],
          "choropleth": [
           {
            "colorbar": {
             "outlinewidth": 0,
             "ticks": ""
            },
            "type": "choropleth"
           }
          ],
          "contour": [
           {
            "colorbar": {
             "outlinewidth": 0,
             "ticks": ""
            },
            "colorscale": [
             [
              0,
              "#0d0887"
             ],
             [
              0.1111111111111111,
              "#46039f"
             ],
             [
              0.2222222222222222,
              "#7201a8"
             ],
             [
              0.3333333333333333,
              "#9c179e"
             ],
             [
              0.4444444444444444,
              "#bd3786"
             ],
             [
              0.5555555555555556,
              "#d8576b"
             ],
             [
              0.6666666666666666,
              "#ed7953"
             ],
             [
              0.7777777777777778,
              "#fb9f3a"
             ],
             [
              0.8888888888888888,
              "#fdca26"
             ],
             [
              1,
              "#f0f921"
             ]
            ],
            "type": "contour"
           }
          ],
          "contourcarpet": [
           {
            "colorbar": {
             "outlinewidth": 0,
             "ticks": ""
            },
            "type": "contourcarpet"
           }
          ],
          "heatmap": [
           {
            "colorbar": {
             "outlinewidth": 0,
             "ticks": ""
            },
            "colorscale": [
             [
              0,
              "#0d0887"
             ],
             [
              0.1111111111111111,
              "#46039f"
             ],
             [
              0.2222222222222222,
              "#7201a8"
             ],
             [
              0.3333333333333333,
              "#9c179e"
             ],
             [
              0.4444444444444444,
              "#bd3786"
             ],
             [
              0.5555555555555556,
              "#d8576b"
             ],
             [
              0.6666666666666666,
              "#ed7953"
             ],
             [
              0.7777777777777778,
              "#fb9f3a"
             ],
             [
              0.8888888888888888,
              "#fdca26"
             ],
             [
              1,
              "#f0f921"
             ]
            ],
            "type": "heatmap"
           }
          ],
          "heatmapgl": [
           {
            "colorbar": {
             "outlinewidth": 0,
             "ticks": ""
            },
            "colorscale": [
             [
              0,
              "#0d0887"
             ],
             [
              0.1111111111111111,
              "#46039f"
             ],
             [
              0.2222222222222222,
              "#7201a8"
             ],
             [
              0.3333333333333333,
              "#9c179e"
             ],
             [
              0.4444444444444444,
              "#bd3786"
             ],
             [
              0.5555555555555556,
              "#d8576b"
             ],
             [
              0.6666666666666666,
              "#ed7953"
             ],
             [
              0.7777777777777778,
              "#fb9f3a"
             ],
             [
              0.8888888888888888,
              "#fdca26"
             ],
             [
              1,
              "#f0f921"
             ]
            ],
            "type": "heatmapgl"
           }
          ],
          "histogram": [
           {
            "marker": {
             "pattern": {
              "fillmode": "overlay",
              "size": 10,
              "solidity": 0.2
             }
            },
            "type": "histogram"
           }
          ],
          "histogram2d": [
           {
            "colorbar": {
             "outlinewidth": 0,
             "ticks": ""
            },
            "colorscale": [
             [
              0,
              "#0d0887"
             ],
             [
              0.1111111111111111,
              "#46039f"
             ],
             [
              0.2222222222222222,
              "#7201a8"
             ],
             [
              0.3333333333333333,
              "#9c179e"
             ],
             [
              0.4444444444444444,
              "#bd3786"
             ],
             [
              0.5555555555555556,
              "#d8576b"
             ],
             [
              0.6666666666666666,
              "#ed7953"
             ],
             [
              0.7777777777777778,
              "#fb9f3a"
             ],
             [
              0.8888888888888888,
              "#fdca26"
             ],
             [
              1,
              "#f0f921"
             ]
            ],
            "type": "histogram2d"
           }
          ],
          "histogram2dcontour": [
           {
            "colorbar": {
             "outlinewidth": 0,
             "ticks": ""
            },
            "colorscale": [
             [
              0,
              "#0d0887"
             ],
             [
              0.1111111111111111,
              "#46039f"
             ],
             [
              0.2222222222222222,
              "#7201a8"
             ],
             [
              0.3333333333333333,
              "#9c179e"
             ],
             [
              0.4444444444444444,
              "#bd3786"
             ],
             [
              0.5555555555555556,
              "#d8576b"
             ],
             [
              0.6666666666666666,
              "#ed7953"
             ],
             [
              0.7777777777777778,
              "#fb9f3a"
             ],
             [
              0.8888888888888888,
              "#fdca26"
             ],
             [
              1,
              "#f0f921"
             ]
            ],
            "type": "histogram2dcontour"
           }
          ],
          "mesh3d": [
           {
            "colorbar": {
             "outlinewidth": 0,
             "ticks": ""
            },
            "type": "mesh3d"
           }
          ],
          "parcoords": [
           {
            "line": {
             "colorbar": {
              "outlinewidth": 0,
              "ticks": ""
             }
            },
            "type": "parcoords"
           }
          ],
          "pie": [
           {
            "automargin": true,
            "type": "pie"
           }
          ],
          "scatter": [
           {
            "fillpattern": {
             "fillmode": "overlay",
             "size": 10,
             "solidity": 0.2
            },
            "type": "scatter"
           }
          ],
          "scatter3d": [
           {
            "line": {
             "colorbar": {
              "outlinewidth": 0,
              "ticks": ""
             }
            },
            "marker": {
             "colorbar": {
              "outlinewidth": 0,
              "ticks": ""
             }
            },
            "type": "scatter3d"
           }
          ],
          "scattercarpet": [
           {
            "marker": {
             "colorbar": {
              "outlinewidth": 0,
              "ticks": ""
             }
            },
            "type": "scattercarpet"
           }
          ],
          "scattergeo": [
           {
            "marker": {
             "colorbar": {
              "outlinewidth": 0,
              "ticks": ""
             }
            },
            "type": "scattergeo"
           }
          ],
          "scattergl": [
           {
            "marker": {
             "colorbar": {
              "outlinewidth": 0,
              "ticks": ""
             }
            },
            "type": "scattergl"
           }
          ],
          "scattermapbox": [
           {
            "marker": {
             "colorbar": {
              "outlinewidth": 0,
              "ticks": ""
             }
            },
            "type": "scattermapbox"
           }
          ],
          "scatterpolar": [
           {
            "marker": {
             "colorbar": {
              "outlinewidth": 0,
              "ticks": ""
             }
            },
            "type": "scatterpolar"
           }
          ],
          "scatterpolargl": [
           {
            "marker": {
             "colorbar": {
              "outlinewidth": 0,
              "ticks": ""
             }
            },
            "type": "scatterpolargl"
           }
          ],
          "scatterternary": [
           {
            "marker": {
             "colorbar": {
              "outlinewidth": 0,
              "ticks": ""
             }
            },
            "type": "scatterternary"
           }
          ],
          "surface": [
           {
            "colorbar": {
             "outlinewidth": 0,
             "ticks": ""
            },
            "colorscale": [
             [
              0,
              "#0d0887"
             ],
             [
              0.1111111111111111,
              "#46039f"
             ],
             [
              0.2222222222222222,
              "#7201a8"
             ],
             [
              0.3333333333333333,
              "#9c179e"
             ],
             [
              0.4444444444444444,
              "#bd3786"
             ],
             [
              0.5555555555555556,
              "#d8576b"
             ],
             [
              0.6666666666666666,
              "#ed7953"
             ],
             [
              0.7777777777777778,
              "#fb9f3a"
             ],
             [
              0.8888888888888888,
              "#fdca26"
             ],
             [
              1,
              "#f0f921"
             ]
            ],
            "type": "surface"
           }
          ],
          "table": [
           {
            "cells": {
             "fill": {
              "color": "#EBF0F8"
             },
             "line": {
              "color": "white"
             }
            },
            "header": {
             "fill": {
              "color": "#C8D4E3"
             },
             "line": {
              "color": "white"
             }
            },
            "type": "table"
           }
          ]
         },
         "layout": {
          "annotationdefaults": {
           "arrowcolor": "#2a3f5f",
           "arrowhead": 0,
           "arrowwidth": 1
          },
          "autotypenumbers": "strict",
          "coloraxis": {
           "colorbar": {
            "outlinewidth": 0,
            "ticks": ""
           }
          },
          "colorscale": {
           "diverging": [
            [
             0,
             "#8e0152"
            ],
            [
             0.1,
             "#c51b7d"
            ],
            [
             0.2,
             "#de77ae"
            ],
            [
             0.3,
             "#f1b6da"
            ],
            [
             0.4,
             "#fde0ef"
            ],
            [
             0.5,
             "#f7f7f7"
            ],
            [
             0.6,
             "#e6f5d0"
            ],
            [
             0.7,
             "#b8e186"
            ],
            [
             0.8,
             "#7fbc41"
            ],
            [
             0.9,
             "#4d9221"
            ],
            [
             1,
             "#276419"
            ]
           ],
           "sequential": [
            [
             0,
             "#0d0887"
            ],
            [
             0.1111111111111111,
             "#46039f"
            ],
            [
             0.2222222222222222,
             "#7201a8"
            ],
            [
             0.3333333333333333,
             "#9c179e"
            ],
            [
             0.4444444444444444,
             "#bd3786"
            ],
            [
             0.5555555555555556,
             "#d8576b"
            ],
            [
             0.6666666666666666,
             "#ed7953"
            ],
            [
             0.7777777777777778,
             "#fb9f3a"
            ],
            [
             0.8888888888888888,
             "#fdca26"
            ],
            [
             1,
             "#f0f921"
            ]
           ],
           "sequentialminus": [
            [
             0,
             "#0d0887"
            ],
            [
             0.1111111111111111,
             "#46039f"
            ],
            [
             0.2222222222222222,
             "#7201a8"
            ],
            [
             0.3333333333333333,
             "#9c179e"
            ],
            [
             0.4444444444444444,
             "#bd3786"
            ],
            [
             0.5555555555555556,
             "#d8576b"
            ],
            [
             0.6666666666666666,
             "#ed7953"
            ],
            [
             0.7777777777777778,
             "#fb9f3a"
            ],
            [
             0.8888888888888888,
             "#fdca26"
            ],
            [
             1,
             "#f0f921"
            ]
           ]
          },
          "colorway": [
           "#636efa",
           "#EF553B",
           "#00cc96",
           "#ab63fa",
           "#FFA15A",
           "#19d3f3",
           "#FF6692",
           "#B6E880",
           "#FF97FF",
           "#FECB52"
          ],
          "font": {
           "color": "#2a3f5f"
          },
          "geo": {
           "bgcolor": "white",
           "lakecolor": "white",
           "landcolor": "#E5ECF6",
           "showlakes": true,
           "showland": true,
           "subunitcolor": "white"
          },
          "hoverlabel": {
           "align": "left"
          },
          "hovermode": "closest",
          "mapbox": {
           "style": "light"
          },
          "paper_bgcolor": "white",
          "plot_bgcolor": "#E5ECF6",
          "polar": {
           "angularaxis": {
            "gridcolor": "white",
            "linecolor": "white",
            "ticks": ""
           },
           "bgcolor": "#E5ECF6",
           "radialaxis": {
            "gridcolor": "white",
            "linecolor": "white",
            "ticks": ""
           }
          },
          "scene": {
           "xaxis": {
            "backgroundcolor": "#E5ECF6",
            "gridcolor": "white",
            "gridwidth": 2,
            "linecolor": "white",
            "showbackground": true,
            "ticks": "",
            "zerolinecolor": "white"
           },
           "yaxis": {
            "backgroundcolor": "#E5ECF6",
            "gridcolor": "white",
            "gridwidth": 2,
            "linecolor": "white",
            "showbackground": true,
            "ticks": "",
            "zerolinecolor": "white"
           },
           "zaxis": {
            "backgroundcolor": "#E5ECF6",
            "gridcolor": "white",
            "gridwidth": 2,
            "linecolor": "white",
            "showbackground": true,
            "ticks": "",
            "zerolinecolor": "white"
           }
          },
          "shapedefaults": {
           "line": {
            "color": "#2a3f5f"
           }
          },
          "ternary": {
           "aaxis": {
            "gridcolor": "white",
            "linecolor": "white",
            "ticks": ""
           },
           "baxis": {
            "gridcolor": "white",
            "linecolor": "white",
            "ticks": ""
           },
           "bgcolor": "#E5ECF6",
           "caxis": {
            "gridcolor": "white",
            "linecolor": "white",
            "ticks": ""
           }
          },
          "title": {
           "x": 0.05
          },
          "xaxis": {
           "automargin": true,
           "gridcolor": "white",
           "linecolor": "white",
           "ticks": "",
           "title": {
            "standoff": 15
           },
           "zerolinecolor": "white",
           "zerolinewidth": 2
          },
          "yaxis": {
           "automargin": true,
           "gridcolor": "white",
           "linecolor": "white",
           "ticks": "",
           "title": {
            "standoff": 15
           },
           "zerolinecolor": "white",
           "zerolinewidth": 2
          }
         }
        },
        "title": {
         "text": "spotify Playlists vs Rankings"
        },
        "xaxis": {
         "anchor": "y",
         "domain": [
          0,
          1
         ],
         "title": {
          "text": "Number of Playlists"
         }
        },
        "yaxis": {
         "anchor": "x",
         "domain": [
          0,
          1
         ],
         "title": {
          "text": "Rankings"
         }
        }
       }
      },
      "text/html": [
       "<div>                            <div id=\"25fe471e-1b14-4157-8776-0531814ab872\" class=\"plotly-graph-div\" style=\"height:525px; width:100%;\"></div>            <script type=\"text/javascript\">                require([\"plotly\"], function(Plotly) {                    window.PLOTLYENV=window.PLOTLYENV || {};                                    if (document.getElementById(\"25fe471e-1b14-4157-8776-0531814ab872\")) {                    Plotly.newPlot(                        \"25fe471e-1b14-4157-8776-0531814ab872\",                        [{\"customdata\":[[\"Seven (feat. Latto) (Explicit Ver.)\"],[\"LALA\"],[\"vampire\"],[\"Cruel Summer\"],[\"WHERE SHE GOES\"],[\"Sprinter\"],[\"Ella Baila Sola\"],[\"Columbia\"],[\"fukumean\"],[\"La Bebe - Remix\"],[\"un x100to\"],[\"Super Shy\"],[\"Flowers\"],[\"Daylight\"],[\"As It Was\"],[\"Kill Bill\"],[\"Cupid - Twin Ver.\"],[\"What Was I Made For? [From The Motion Picture \\\"Barbie\\\"]\"],[\"Classy 101\"],[\"Like Crazy\"],[\"LADY GAGA\"],[\"I Can See You (Taylor's Version) (From The \"],[\"I Wanna Be Yours\"],[\"Peso Pluma: Bzrp Music Sessions, Vol. 55\"],[\"Popular (with Playboi Carti & Madonna) - The Idol Vol. 1 (Music from the HBO Original Series)\"],[\"SABOR FRESA\"],[\"Calm Down (with Selena Gomez)\"],[\"MOJABI GHOST\"],[\"Last Night\"],[\"Dance The Night (From Barbie The Album)\"],[\"Rush\"],[\"TULUM\"],[\"Creepin'\"],[\"Anti-Hero\"],[\"TQG\"],[\"Los del Espacio\"],[\"Fragil (feat. Grupo Front)\"],[\"Blank Space\"],[\"Style\"],[\"TQM\"],[\"El Azul\"],[\"Sunflower - Spider-Man: Into the Spider-Verse\"],[\"I'm Good (Blue)\"],[\"See You Again\"],[\"Barbie World (with Aqua) [From Barbie The Album]\"],[\"Angels Like You\"],[\"I Ain't Worried\"],[\"Die For You\"],[\"Starboy\"],[\"Die For You - Remix\"],[\"El Cielo\"],[\"Baby Don't Hurt Me\"],[\"AMARGURA\"],[\"(It Goes Like) Nanana - Edit\"],[\"Another Love\"],[\"Blinding Lights\"],[\"Moonlight\"],[\"La Bachata\"],[\"S91\"],[\"cardigan\"],[\"Ta OK\"],[\"Boy's a liar Pt. 2\"],[\"Left and Right (Feat. Jung Kook of BTS)\"],[\"BESO\"],[\"Hey Mor\"],[\"Yellow\"],[\"Karma\"],[\"People\"],[\"Overdrive\"],[\"Enchanted (Taylor's Version)\"],[\"BABY HELLO\"],[\"Heat Waves\"],[\"golden hour\"],[\"Sweater Weather\"],[\"Quevedo: Bzrp Music Sessions, Vol. 52\"],[\"Viva La Vida\"],[\"Here With Me\"],[\"Unholy (feat. Kim Petras)\"],[\"Yandel 150\"],[\"CORAZON VACIO\"],[\"Riptide\"],[\"Until I Found You (with Em Beihold) - Em Beihold Version\"],[\"Novidade na Area\"],[\"Back To December (Taylor's Version)\"],[\"STAY (with Justin Bieber)\"],[\"El Merengue\"],[\"Someone You Loved\"],[\"Me Porto Bonito\"],[\"Makeba\"],[\"MONTAGEM - FR PUNK\"],[\"Fast Car\"],[\"What It Is (Solo Version)\"],[\"Coco Chanel\"],[\"Don't Blame Me\"],[\"Still With You\"],[\"All My Life (feat. J. Cole)\"],[\"Say Yes To Heaven\"],[\"Snooze\"],[\"Summertime Sadness\"],[\"Take Two\"],[\"Lover\"],[\"Too Many Nights (feat. Don Toliver & with Future)\"],[\"Chemical\"],[\"Mockingbird\"],[\"New Jeans\"],[\"Primera Cita\"],[\"Cold Heart - PNAU Remix\"],[\"Dandelions\"],[\"Bones\"],[\"Set Fire to the Rain\"],[\"Money Trees\"],[\"Tak Segampang Itu\"],[\"LAGUNAS\"],[\"Mine (Taylor's Version)\"],[\"Everybody Wants To Rule The World\"],[\"No Role Modelz\"],[\"Tattoo\"],[\"Rara Vez\"],[\"VAGABUNDO\"],[\"august\"],[\"LUNA\"],[\"Miracle (with Ellie Goulding)\"],[\"Nonsense\"],[\"Que Vuelvas\"],[\"Por las Noches\"],[\"Feliz Cumpleanos Ferxxo\"],[\"Can't Hold Us (feat. Ray Dalton)\"],[\"Watermelon Sugar\"],[\"lovely - Bonus Track\"],[\"Rauw Alejandro: Bzrp Music Sessions, Vol. 56\"],[\"Queencard\"],[\"OMG\"],[\"Radio\"],[\"Shakira: Bzrp Music Sessions, Vol. 53\"],[\"505\"],[\"Calling (Spider-Man: Across the Spider-Verse) (Metro Boomin & Swae Lee, NAV, feat. A Boogie Wit da Hoodie)\"],[\"Trance (with Travis Scott & Young Thug)\"],[\"Tere Vaaste (From \\\"Zara Hatke Zara Bachke\\\")\"],[\"Perfect\"],[\"Romantic Homicide\"],[\"Believer\"],[\"Novo Balanco\"],[\"Gol Bolinha, Gol Quadrado 2\"],[\"Without Me\"],[\"QUEMA\"],[\"Stargirl Interlude\"],[\"Ojitos Lindos\"],[\"Somewhere Only We Know\"],[\"Those Eyes\"],[\"El Gordo Trae El Mando\"],[\"Mi Bello Angel\"],[\"Bye\"],[\"Danza Kuduro\"],[\"Nosso Quadro\"],[\"Locked Out Of Heaven\"],[\"Un Finde | CROSSOVER #2\"],[\"Jimmy Cooks (feat. 21 Savage)\"],[\"Counting Stars\"],[\"Ghost\"],[\"Under The Influence\"],[\"PRC\"],[\"Gasolina\"],[\"One Dance\"],[\"Enchanted\"],[\"Save Your Tears\"],[\"Sure Thing\"],[\"Every Breath You Take - Remastered 2003\"],[\"The Night We Met\"],[\"We Found Love\"],[\"When I Was Your Man\"],[\"Let Me Down Slowly\"],[\"Am I Dreaming (Metro Boomin & A$AP Rocky, Roisee)\"],[\"Do I Wanna Know?\"],[\"Demons\"],[\"Reminder\"],[\"Shake It Off\"],[\"Why'd You Only Call Me When You're High?\"],[\"SNAP\"],[\"Shape of You\"],[\"Night Changes\"],[\"Fin de Semana\"],[\"Creep\"],[\"Car's Outside\"],[\"Apocalypse\"],[\"Cheques\"],[\"Pink + White\"],[\"Circles\"],[\"Just The Way You Are\"],[\"Take Me To Church\"],[\"Bebe Dame\"],[\"You Belong With Me (Taylor's Version)\"],[\"Titi Me Pregunto\"],[\"Better Than Revenge (Taylor's Version)\"],[\"Shut up My Moms Calling\"],[\"Have You Ever Seen The Rain?\"],[\"Es un Secreto\"],[\"POLARIS - Remix\"],[\"Ditto\"],[\"Take On Me\"],[\"Annihilate (Spider-Man: Across the Spider-Verse) (Metro Boomin & Swae Lee, Lil Wayne, Offset)\"],[\"Angel Pt 1 (feat. Jimin of BTS, JVKE & Muni Long)\"],[\"Acrostico\"],[\"AMG\"],[\"Phir Aur Kya Chahiye (From \\\"Zara Hatke Zara Bachke\\\")\"],[\"S-Class\"],[\"Chanel\"],[\"Self Love (Spider-Man: Across the Spider-Verse) (Metro Boomin & Coi Leray)\"],[\"Area Codes\"],[\"Abcdario\"],[\"Obsessed\"],[\"Pisman Degilim\"],[\"FLOWER\"],[\"Eyes Closed\"],[\"Escapism.\"],[\"La Jumpa\"],[\"Superhero (Heroes & Villains) [with Future & Chris Brown]\"],[\"Las Morras\"],[\"CHORRITO PA LAS ANIMAS\"],[\"Ch y la Pizza\"],[\"Snow On The Beach (feat. More Lana Del Rey)\"],[\"Players\"],[\"Bite Me\"],[\"Stand By Me (feat. Morgan Wallen)\"],[\"Normal\"],[\"Hummingbird (Metro Boomin & James Blake)\"],[\"Seu Brilho Sumiu - Ao Vivo\"],[\"Bad Habit\"],[\"CUFF IT\"],[\"Lilith (feat. SUGA of BTS) (Diablo IV Anthem)\"],[\"69\"],[\"Nina Bonita\"],[\"Search & Rescue\"],[\"Lavender Haze\"],[\"Efecto\"],[\"Erro Gostoso - Ao Vivo\"],[\"Cupido\"],[\"Just Wanna Rock\"],[\"Unstoppable\"],[\"Until I Found You\"],[\"Rich Flex\"],[\"Easy On Me\"],[\"Cartao Black\"],[\"Oi Balde - Ao Vivo\"],[\"The Real Slim Shady\"],[\"MERCHO\"],[\"The Color Violet\"],[\"Glimpse of Us\"],[\"Mejor Que Yo\"],[\"UNFORGIVEN (feat. Nile Rodgers)\"],[\"Haegeum\"],[\"Conexoes de Mafia (feat. Rich The Kid)\"],[\"MIENTRAS ME CURO DEL CORA\"],[\"Never Felt So Alone\"],[\"X SI VOLVEMOS\"],[\"ceilings\"],[\"Cupid\"],[\"I AM\"],[\"Cupid - Twin Ver. (FIFTY FIFTY) - Sped Up Version\"],[\"Shorty Party\"],[\"Super\"],[\"Slut Me Out\"],[\"All Of The Girls You Loved Before\"],[\"PROVENZA\"],[\"Princess Diana (with Nicki Minaj)\"],[\"Di Que Si\"],[\"Shivers\"],[\"Igualito a Mi Apa\"],[\"Shoong! (feat. LISA of BLACKPINK)\"],[\"Komang\"],[\"DESPECHA\"],[\"Made You Look\"],[\"Watch This - ARIZONATEARS Pluggnb Remix\"],[\"No Se Va\"],[\"Punto G\"],[\"Lovers Rock\"],[\"METAMORPHOSIS\"],[\"Mami Chula\"],[\"En Paris\"],[\"Set Me Free Pt.2\"],[\"I Was Never There\"],[\"Shut Down\"],[\"Gato de Noche\"],[\"Call Out My Name\"],[\"Like Crazy (English Version)\"],[\"Rosa Pastel\"],[\"Sunroof\"],[\"Lose Yourself - Soundtrack Version\"],[\"Superman\"],[\"Mas Rica Que Ayer\"],[\"People Pt.2 (feat. IU)\"],[\"REMIX EXCLUSIVO\"],[\"Arcangel: Bzrp Music Sessions, Vol\"],[\"10:35\"],[\"La Bebe\"],[\"Late Night Talking\"],[\"Leao\"],[\"Save Your Tears (with Ariana Grande) (Remix)\"],[\"Something in the Orange\"],[\"Dijeron Que No La Iba Lograr\"],[\"Midnight Rain\"],[\"If We Ever Broke Up\"],[\"You Proof\"],[\"LA INOCENTE\"],[\"Malas Decisiones\"],[\"Murder In My Mind\"],[\"Gangsta's Paradise\"],[\"CAIRO\"],[\"I Love You So\"],[\"Dark Red\"],[\"Say You Won't Let Go\"],[\"The Hills\"],[\"Marisola - Remix\"],[\"LOKERA\"],[\"Numb\"],[\"on the street (with J. Cole)\"],[\"One Thing At A Time\"],[\"Miss You\"],[\"Ain't That Some\"],[\"Thinkin' Bout Me\"],[\"Heaven\"],[\"LET GO\"],[\"Sial\"],[\"SPIT IN MY FACE!\"],[\"PLAYA DEL INGLES\"],[\"Kahani Suno 2.0\"],[\"Nobody Gets Me\"],[\"PERO TU\"],[\"Hype Boy\"],[\"Monotonia\"],[\"WANDA\"],[\"Thought You Should Know\"],[\"In The End\"],[\"Zona De Perigo\"],[\"I Like You (A Happier Song) (with Doja Cat)\"],[\"Neverita\"],[\"Vista Al Mar\"],[\"Sem Alianca no Dedo\"],[\"Enemy (with JID) - from the series Arcane League of Legends\"],[\"Revenge\"],[\"Bombonzinho - Ao Vivo\"],[\"LA CANCION\"],[\"Que Agonia\"],[\"After Hours\"],[\"About Damn Time\"],[\"Besos Moja2\"],[\"Maan Meri Jaan\"],[\"Moscow Mule\"],[\"My Universe\"],[\"TRUSTFALL\"],[\"ANTIFRAGILE\"],[\"VIBE (feat. Jimin of BTS)\"],[\"Sex, Drugs, Etc.\"],[\"Jhoome Jo Pathaan\"],[\"Space Song\"],[\"Dreamers [Music from the FIFA World Cup Qatar 2022 Official Soundtrack]\"],[\"Te Felicito\"],[\"Munecas\"],[\"TV\"],[\"I'm Not The Only One\"],[\"Heather\"],[\"Besharam Rang (From \\\"Pathaan\\\")\"],[\"One Kiss (with Dua Lipa)\"],[\"Pink Venom\"],[\"WAIT FOR U (feat. Drake & Tems)\"],[\"After Dark\"],[\"Eu Gosto Assim - Ao Vivo\"],[\"MIDDLE OF THE NIGHT\"],[\"Atlantis\"],[\"PUNTO 40\"],[\"How Do I Say Goodbye\"],[\"Doja\"],[\"Yonaguni\"],[\"Where Are You Now\"],[\"Bad Habits\"],[\"KICK BACK\"],[\"Good Days\"],[\"Levitating (feat. DaBaby)\"],[\"Shut up My Moms Calling - (Sped Up)\"],[\"Ferrari\"],[\"You're On Your Own, Kid\"],[\"Kesariya (From \\\"Brahmastra\\\")\"],[\"Payphone\"],[\"Open Arms (feat. Travis Scott)\"],[\"Antidepresan\"],[\"Wild Flower (with youjeen)\"],[\"Tarot\"],[\"Desesperados\"],[\"Party\"],[\"GATUBELA\"]],\"hovertemplate\":\"in_spotify_playlists=%{x}<br>in_spotify_charts=%{y}<br>track_name=%{customdata[0]}<extra></extra>\",\"legendgroup\":\"\",\"marker\":{\"color\":\"#636efa\",\"symbol\":\"circle\"},\"mode\":\"markers\",\"name\":\"\",\"orientation\":\"v\",\"showlegend\":false,\"x\":[553,1474,1397,7858,3133,2186,3090,714,1096,2953,2876,422,12211,3528,23575,8109,2942,873,2610,596,332,516,12859,1313,1945,250,7112,859,2420,2988,864,266,6036,9082,4284,1150,672,11434,7830,584,692,24094,12482,13387,1117,3372,8431,2483,29536,3408,1298,4277,1133,2259,18371,43899,2649,6804,525,7923,731,5184,3107,4053,4637,31358,3818,3506,410,148,1004,22543,4511,16413,8506,33898,3246,8576,3618,370,31123,2790,267,139,17050,2114,17836,8870,6060,641,1446,804,1962,4875,31,2175,2000,2839,20333,674,8448,2110,2528,12985,77,266,21097,3423,4198,14739,26792,213,58,99,41751,21164,2988,893,1094,7324,201,5120,2346,763,457,3430,6074,21915,15032,871,451,1783,9389,5724,13985,1051,1682,182,16596,2335,18986,283,293,21081,437,1275,6135,20015,1507,539,86,324,17138,894,1622,561,5871,29215,5866,3859,961,6457,43257,4564,12688,13801,22439,18515,36843,2420,5897,727,33783,26694,6518,21335,23389,3202,32181,7124,592,36724,794,13091,67,21574,19664,21106,23804,849,2619,9037,86,1788,15890,492,773,1154,44927,551,577,955,995,178,290,681,332,1197,262,161,185,839,2915,5129,3794,2959,291,2321,536,359,4096,349,381,2461,277,967,8186,7842,215,1134,1305,2066,3763,4004,984,1240,3995,7681,4427,4657,10195,269,845,20763,1267,2585,6330,675,327,244,385,1020,1730,2127,3242,526,366,472,432,271,816,1282,6587,1444,356,10147,265,351,158,7613,3956,1638,924,1985,6339,1561,875,406,340,4188,1524,2651,11087,373,200,3741,32502,7615,1208,209,1235,654,4942,489,7461,993,9161,3282,320,2612,2040,2128,2598,542,2459,10624,2418,7536,10431,15722,25744,1845,3301,20111,615,811,5730,356,604,1553,2301,134,629,1701,162,2536,387,892,3645,888,968,25065,531,5281,2590,1769,454,6180,3600,1254,6398,660,8084,2332,2460,288,4572,6127,2098,761,415,3006,138,17852,889,4796,658,3009,17492,6170,130,27705,1963,5491,1776,1473,4057,3045,3006,2163,4169,9644,10565,12755,574,10426,15894,713,7758,2537,292,14143,1420,313,353,2482,6821,3185,3328],\"xaxis\":\"x\",\"y\":[147,48,113,100,50,91,50,43,83,44,40,55,115,98,130,77,77,104,40,68,26,38,110,40,87,26,77,40,19,101,78,34,88,56,49,31,34,53,42,28,25,78,80,64,80,19,76,59,79,47,38,66,39,59,83,69,42,45,41,29,15,41,39,50,38,43,23,56,36,24,35,63,36,61,45,62,23,42,38,20,55,30,9,17,36,44,53,43,53,50,12,25,38,23,39,23,46,25,52,47,23,58,39,61,35,27,52,21,44,43,32,6,18,15,25,36,59,38,34,22,11,48,27,26,24,38,52,34,30,32,33,27,46,44,25,16,46,8,13,23,23,7,8,43,31,32,38,16,14,21,8,14,37,9,9,14,27,43,24,26,26,18,24,16,13,19,19,35,21,11,19,16,26,13,17,13,29,18,10,18,14,7,10,17,8,30,16,13,31,22,12,42,11,14,14,36,33,22,17,4,14,29,19,6,19,10,5,13,5,6,3,18,30,25,34,16,8,36,10,2,6,69,5,36,1,5,12,10,6,22,34,6,8,33,5,24,13,13,4,18,20,4,2,27,20,32,6,1,13,12,4,35,3,33,9,10,15,2,12,12,4,6,34,4,10,30,6,9,4,33,6,10,18,35,13,24,4,5,13,15,17,30,6,19,4,17,21,14,34,4,9,3,26,17,8,4,5,12,6,4,4,9,37,2,20,17,26,7,7,16,4,16,30,5,2,4,10,4,6,2,20,4,14,15,6,6,11,17,15,22,4,6,4,14,30,34,4,7,11,6,31,15,6,2,13,6,33,13,16,12,2,16,4,4,20,9,6,2,3,7,4,10,16,14,14,4,8,6,12,15,44,28,44,8,4,2,8,7,28,2,6,4,4,2,2,20,34,4,13],\"yaxis\":\"y\",\"type\":\"scatter\"}],                        {\"template\":{\"data\":{\"histogram2dcontour\":[{\"type\":\"histogram2dcontour\",\"colorbar\":{\"outlinewidth\":0,\"ticks\":\"\"},\"colorscale\":[[0.0,\"#0d0887\"],[0.1111111111111111,\"#46039f\"],[0.2222222222222222,\"#7201a8\"],[0.3333333333333333,\"#9c179e\"],[0.4444444444444444,\"#bd3786\"],[0.5555555555555556,\"#d8576b\"],[0.6666666666666666,\"#ed7953\"],[0.7777777777777778,\"#fb9f3a\"],[0.8888888888888888,\"#fdca26\"],[1.0,\"#f0f921\"]]}],\"choropleth\":[{\"type\":\"choropleth\",\"colorbar\":{\"outlinewidth\":0,\"ticks\":\"\"}}],\"histogram2d\":[{\"type\":\"histogram2d\",\"colorbar\":{\"outlinewidth\":0,\"ticks\":\"\"},\"colorscale\":[[0.0,\"#0d0887\"],[0.1111111111111111,\"#46039f\"],[0.2222222222222222,\"#7201a8\"],[0.3333333333333333,\"#9c179e\"],[0.4444444444444444,\"#bd3786\"],[0.5555555555555556,\"#d8576b\"],[0.6666666666666666,\"#ed7953\"],[0.7777777777777778,\"#fb9f3a\"],[0.8888888888888888,\"#fdca26\"],[1.0,\"#f0f921\"]]}],\"heatmap\":[{\"type\":\"heatmap\",\"colorbar\":{\"outlinewidth\":0,\"ticks\":\"\"},\"colorscale\":[[0.0,\"#0d0887\"],[0.1111111111111111,\"#46039f\"],[0.2222222222222222,\"#7201a8\"],[0.3333333333333333,\"#9c179e\"],[0.4444444444444444,\"#bd3786\"],[0.5555555555555556,\"#d8576b\"],[0.6666666666666666,\"#ed7953\"],[0.7777777777777778,\"#fb9f3a\"],[0.8888888888888888,\"#fdca26\"],[1.0,\"#f0f921\"]]}],\"heatmapgl\":[{\"type\":\"heatmapgl\",\"colorbar\":{\"outlinewidth\":0,\"ticks\":\"\"},\"colorscale\":[[0.0,\"#0d0887\"],[0.1111111111111111,\"#46039f\"],[0.2222222222222222,\"#7201a8\"],[0.3333333333333333,\"#9c179e\"],[0.4444444444444444,\"#bd3786\"],[0.5555555555555556,\"#d8576b\"],[0.6666666666666666,\"#ed7953\"],[0.7777777777777778,\"#fb9f3a\"],[0.8888888888888888,\"#fdca26\"],[1.0,\"#f0f921\"]]}],\"contourcarpet\":[{\"type\":\"contourcarpet\",\"colorbar\":{\"outlinewidth\":0,\"ticks\":\"\"}}],\"contour\":[{\"type\":\"contour\",\"colorbar\":{\"outlinewidth\":0,\"ticks\":\"\"},\"colorscale\":[[0.0,\"#0d0887\"],[0.1111111111111111,\"#46039f\"],[0.2222222222222222,\"#7201a8\"],[0.3333333333333333,\"#9c179e\"],[0.4444444444444444,\"#bd3786\"],[0.5555555555555556,\"#d8576b\"],[0.6666666666666666,\"#ed7953\"],[0.7777777777777778,\"#fb9f3a\"],[0.8888888888888888,\"#fdca26\"],[1.0,\"#f0f921\"]]}],\"surface\":[{\"type\":\"surface\",\"colorbar\":{\"outlinewidth\":0,\"ticks\":\"\"},\"colorscale\":[[0.0,\"#0d0887\"],[0.1111111111111111,\"#46039f\"],[0.2222222222222222,\"#7201a8\"],[0.3333333333333333,\"#9c179e\"],[0.4444444444444444,\"#bd3786\"],[0.5555555555555556,\"#d8576b\"],[0.6666666666666666,\"#ed7953\"],[0.7777777777777778,\"#fb9f3a\"],[0.8888888888888888,\"#fdca26\"],[1.0,\"#f0f921\"]]}],\"mesh3d\":[{\"type\":\"mesh3d\",\"colorbar\":{\"outlinewidth\":0,\"ticks\":\"\"}}],\"scatter\":[{\"fillpattern\":{\"fillmode\":\"overlay\",\"size\":10,\"solidity\":0.2},\"type\":\"scatter\"}],\"parcoords\":[{\"type\":\"parcoords\",\"line\":{\"colorbar\":{\"outlinewidth\":0,\"ticks\":\"\"}}}],\"scatterpolargl\":[{\"type\":\"scatterpolargl\",\"marker\":{\"colorbar\":{\"outlinewidth\":0,\"ticks\":\"\"}}}],\"bar\":[{\"error_x\":{\"color\":\"#2a3f5f\"},\"error_y\":{\"color\":\"#2a3f5f\"},\"marker\":{\"line\":{\"color\":\"#E5ECF6\",\"width\":0.5},\"pattern\":{\"fillmode\":\"overlay\",\"size\":10,\"solidity\":0.2}},\"type\":\"bar\"}],\"scattergeo\":[{\"type\":\"scattergeo\",\"marker\":{\"colorbar\":{\"outlinewidth\":0,\"ticks\":\"\"}}}],\"scatterpolar\":[{\"type\":\"scatterpolar\",\"marker\":{\"colorbar\":{\"outlinewidth\":0,\"ticks\":\"\"}}}],\"histogram\":[{\"marker\":{\"pattern\":{\"fillmode\":\"overlay\",\"size\":10,\"solidity\":0.2}},\"type\":\"histogram\"}],\"scattergl\":[{\"type\":\"scattergl\",\"marker\":{\"colorbar\":{\"outlinewidth\":0,\"ticks\":\"\"}}}],\"scatter3d\":[{\"type\":\"scatter3d\",\"line\":{\"colorbar\":{\"outlinewidth\":0,\"ticks\":\"\"}},\"marker\":{\"colorbar\":{\"outlinewidth\":0,\"ticks\":\"\"}}}],\"scattermapbox\":[{\"type\":\"scattermapbox\",\"marker\":{\"colorbar\":{\"outlinewidth\":0,\"ticks\":\"\"}}}],\"scatterternary\":[{\"type\":\"scatterternary\",\"marker\":{\"colorbar\":{\"outlinewidth\":0,\"ticks\":\"\"}}}],\"scattercarpet\":[{\"type\":\"scattercarpet\",\"marker\":{\"colorbar\":{\"outlinewidth\":0,\"ticks\":\"\"}}}],\"carpet\":[{\"aaxis\":{\"endlinecolor\":\"#2a3f5f\",\"gridcolor\":\"white\",\"linecolor\":\"white\",\"minorgridcolor\":\"white\",\"startlinecolor\":\"#2a3f5f\"},\"baxis\":{\"endlinecolor\":\"#2a3f5f\",\"gridcolor\":\"white\",\"linecolor\":\"white\",\"minorgridcolor\":\"white\",\"startlinecolor\":\"#2a3f5f\"},\"type\":\"carpet\"}],\"table\":[{\"cells\":{\"fill\":{\"color\":\"#EBF0F8\"},\"line\":{\"color\":\"white\"}},\"header\":{\"fill\":{\"color\":\"#C8D4E3\"},\"line\":{\"color\":\"white\"}},\"type\":\"table\"}],\"barpolar\":[{\"marker\":{\"line\":{\"color\":\"#E5ECF6\",\"width\":0.5},\"pattern\":{\"fillmode\":\"overlay\",\"size\":10,\"solidity\":0.2}},\"type\":\"barpolar\"}],\"pie\":[{\"automargin\":true,\"type\":\"pie\"}]},\"layout\":{\"autotypenumbers\":\"strict\",\"colorway\":[\"#636efa\",\"#EF553B\",\"#00cc96\",\"#ab63fa\",\"#FFA15A\",\"#19d3f3\",\"#FF6692\",\"#B6E880\",\"#FF97FF\",\"#FECB52\"],\"font\":{\"color\":\"#2a3f5f\"},\"hovermode\":\"closest\",\"hoverlabel\":{\"align\":\"left\"},\"paper_bgcolor\":\"white\",\"plot_bgcolor\":\"#E5ECF6\",\"polar\":{\"bgcolor\":\"#E5ECF6\",\"angularaxis\":{\"gridcolor\":\"white\",\"linecolor\":\"white\",\"ticks\":\"\"},\"radialaxis\":{\"gridcolor\":\"white\",\"linecolor\":\"white\",\"ticks\":\"\"}},\"ternary\":{\"bgcolor\":\"#E5ECF6\",\"aaxis\":{\"gridcolor\":\"white\",\"linecolor\":\"white\",\"ticks\":\"\"},\"baxis\":{\"gridcolor\":\"white\",\"linecolor\":\"white\",\"ticks\":\"\"},\"caxis\":{\"gridcolor\":\"white\",\"linecolor\":\"white\",\"ticks\":\"\"}},\"coloraxis\":{\"colorbar\":{\"outlinewidth\":0,\"ticks\":\"\"}},\"colorscale\":{\"sequential\":[[0.0,\"#0d0887\"],[0.1111111111111111,\"#46039f\"],[0.2222222222222222,\"#7201a8\"],[0.3333333333333333,\"#9c179e\"],[0.4444444444444444,\"#bd3786\"],[0.5555555555555556,\"#d8576b\"],[0.6666666666666666,\"#ed7953\"],[0.7777777777777778,\"#fb9f3a\"],[0.8888888888888888,\"#fdca26\"],[1.0,\"#f0f921\"]],\"sequentialminus\":[[0.0,\"#0d0887\"],[0.1111111111111111,\"#46039f\"],[0.2222222222222222,\"#7201a8\"],[0.3333333333333333,\"#9c179e\"],[0.4444444444444444,\"#bd3786\"],[0.5555555555555556,\"#d8576b\"],[0.6666666666666666,\"#ed7953\"],[0.7777777777777778,\"#fb9f3a\"],[0.8888888888888888,\"#fdca26\"],[1.0,\"#f0f921\"]],\"diverging\":[[0,\"#8e0152\"],[0.1,\"#c51b7d\"],[0.2,\"#de77ae\"],[0.3,\"#f1b6da\"],[0.4,\"#fde0ef\"],[0.5,\"#f7f7f7\"],[0.6,\"#e6f5d0\"],[0.7,\"#b8e186\"],[0.8,\"#7fbc41\"],[0.9,\"#4d9221\"],[1,\"#276419\"]]},\"xaxis\":{\"gridcolor\":\"white\",\"linecolor\":\"white\",\"ticks\":\"\",\"title\":{\"standoff\":15},\"zerolinecolor\":\"white\",\"automargin\":true,\"zerolinewidth\":2},\"yaxis\":{\"gridcolor\":\"white\",\"linecolor\":\"white\",\"ticks\":\"\",\"title\":{\"standoff\":15},\"zerolinecolor\":\"white\",\"automargin\":true,\"zerolinewidth\":2},\"scene\":{\"xaxis\":{\"backgroundcolor\":\"#E5ECF6\",\"gridcolor\":\"white\",\"linecolor\":\"white\",\"showbackground\":true,\"ticks\":\"\",\"zerolinecolor\":\"white\",\"gridwidth\":2},\"yaxis\":{\"backgroundcolor\":\"#E5ECF6\",\"gridcolor\":\"white\",\"linecolor\":\"white\",\"showbackground\":true,\"ticks\":\"\",\"zerolinecolor\":\"white\",\"gridwidth\":2},\"zaxis\":{\"backgroundcolor\":\"#E5ECF6\",\"gridcolor\":\"white\",\"linecolor\":\"white\",\"showbackground\":true,\"ticks\":\"\",\"zerolinecolor\":\"white\",\"gridwidth\":2}},\"shapedefaults\":{\"line\":{\"color\":\"#2a3f5f\"}},\"annotationdefaults\":{\"arrowcolor\":\"#2a3f5f\",\"arrowhead\":0,\"arrowwidth\":1},\"geo\":{\"bgcolor\":\"white\",\"landcolor\":\"#E5ECF6\",\"subunitcolor\":\"white\",\"showland\":true,\"showlakes\":true,\"lakecolor\":\"white\"},\"title\":{\"x\":0.05},\"mapbox\":{\"style\":\"light\"}}},\"xaxis\":{\"anchor\":\"y\",\"domain\":[0.0,1.0],\"title\":{\"text\":\"Number of Playlists\"}},\"yaxis\":{\"anchor\":\"x\",\"domain\":[0.0,1.0],\"title\":{\"text\":\"Rankings\"}},\"legend\":{\"tracegroupgap\":0},\"margin\":{\"t\":60},\"title\":{\"text\":\"spotify Playlists vs Rankings\"},\"hovermode\":\"closest\"},                        {\"responsive\": true}                    ).then(function(){\n",
       "                            \n",
       "var gd = document.getElementById('25fe471e-1b14-4157-8776-0531814ab872');\n",
       "var x = new MutationObserver(function (mutations, observer) {{\n",
       "        var display = window.getComputedStyle(gd).display;\n",
       "        if (!display || display === 'none') {{\n",
       "            console.log([gd, 'removed!']);\n",
       "            Plotly.purge(gd);\n",
       "            observer.disconnect();\n",
       "        }}\n",
       "}});\n",
       "\n",
       "// Listen for the removal of the full notebook cells\n",
       "var notebookContainer = gd.closest('#notebook-container');\n",
       "if (notebookContainer) {{\n",
       "    x.observe(notebookContainer, {childList: true});\n",
       "}}\n",
       "\n",
       "// Listen for the clearing of the current output cell\n",
       "var outputEl = gd.closest('.output');\n",
       "if (outputEl) {{\n",
       "    x.observe(outputEl, {childList: true});\n",
       "}}\n",
       "\n",
       "                        })                };                });            </script>        </div>"
      ]
     },
     "metadata": {},
     "output_type": "display_data"
    }
   ],
   "source": [
    "\n",
    "for idx in df.index:\n",
    "    if df.loc[idx][f'in_{platform}_charts'] == 0:\n",
    "        df = df.drop(idx)\n",
    "\n",
    "\n",
    "plot = px.scatter(df, x=f'in_{platform}_playlists', y=f'in_{platform}_charts', hover_data=['track_name'])\n",
    "\n",
    "\n",
    "plot.update_layout(title=f'{platform} Playlists vs Rankings', xaxis_title='Number of Playlists',\n",
    "                   yaxis_title='Rankings', hovermode='closest')\n",
    "\n",
    "plot.show()\n",
    "    "
   ]
  },
  {
   "cell_type": "code",
   "execution_count": null,
   "id": "c6e7557a",
   "metadata": {},
   "outputs": [],
   "source": []
  }
 ],
 "metadata": {
  "kernelspec": {
   "display_name": "Python 3 (ipykernel)",
   "language": "python",
   "name": "python3"
  },
  "language_info": {
   "codemirror_mode": {
    "name": "ipython",
    "version": 3
   },
   "file_extension": ".py",
   "mimetype": "text/x-python",
   "name": "python",
   "nbconvert_exporter": "python",
   "pygments_lexer": "ipython3",
   "version": "3.9.18"
  }
 },
 "nbformat": 4,
 "nbformat_minor": 5
}
